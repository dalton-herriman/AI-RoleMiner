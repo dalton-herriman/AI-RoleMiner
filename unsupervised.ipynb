{
 "cells": [
  {
   "cell_type": "markdown",
   "id": "7a0a3b45",
   "metadata": {},
   "source": [
    "# UNSUPERVISED ROLE MODEL (clustering based on user permissions)"
   ]
  },
  {
   "cell_type": "markdown",
   "id": "8c0bc835",
   "metadata": {},
   "source": [
    "## Load the data"
   ]
  },
  {
   "cell_type": "code",
   "execution_count": 1,
   "id": "b809de25",
   "metadata": {},
   "outputs": [],
   "source": [
    "import json\n",
    "import pandas as pd\n",
    "\n",
    "with open(\"data/raw/permissions.json\") as f:\n",
    "    permissions = json.load(f)\n",
    "with open(\"data/raw/user_permissions.json\") as f:\n",
    "    user_permissions = json.load(f)"
   ]
  },
  {
   "cell_type": "markdown",
   "id": "d73da20b",
   "metadata": {},
   "source": [
    "## Build User-Permission Matrix"
   ]
  },
  {
   "cell_type": "code",
   "execution_count": 2,
   "id": "973ff348",
   "metadata": {},
   "outputs": [],
   "source": [
    "import numpy as np\n",
    "\n",
    "user_list = list(user_permissions.keys())\n",
    "perm_list = permissions\n",
    "\n",
    "# Initialize matrix\n",
    "matrix = np.zeros((len(user_list), len(perm_list)), dtype=int)\n",
    "\n",
    "# Populate matrix\n",
    "perm_index = {perm: i for i, perm in enumerate(perm_list)}\n",
    "for user_idx, user in enumerate(user_list):\n",
    "    for perm in user_permissions[user]:\n",
    "        matrix[user_idx][perm_index[perm]] = 1\n",
    "\n",
    "df = pd.DataFrame(matrix, index=user_list, columns=perm_list)\n"
   ]
  },
  {
   "cell_type": "markdown",
   "id": "89d77764",
   "metadata": {},
   "source": [
    "## Apply a clustering algorithm"
   ]
  },
  {
   "cell_type": "code",
   "execution_count": 3,
   "id": "8996500e",
   "metadata": {},
   "outputs": [],
   "source": [
    "from sklearn.cluster import KMeans\n",
    "\n",
    "# Try different numbers of roles\n",
    "k = 10\n",
    "model = KMeans(n_clusters=k, random_state=42)\n",
    "labels = model.fit_predict(df)\n",
    "\n",
    "# Assign cluster labels (suggested roles)\n",
    "df[\"suggested_role\"] = labels\n"
   ]
  },
  {
   "cell_type": "markdown",
   "id": "a286da92",
   "metadata": {},
   "source": [
    "## Inspect suggested roles"
   ]
  },
  {
   "cell_type": "code",
   "execution_count": 4,
   "id": "4aa42614",
   "metadata": {},
   "outputs": [
    {
     "name": "stdout",
     "output_type": "stream",
     "text": [
      "\n",
      "Suggested Role 1 Permissions:\n",
      " ['perm_3', 'perm_9', 'perm_13', 'perm_15', 'perm_21', 'perm_22']\n",
      "\n",
      "Suggested Role 2 Permissions:\n",
      " ['perm_2', 'perm_13', 'perm_19']\n",
      "\n",
      "Suggested Role 3 Permissions:\n",
      " ['perm_16', 'perm_21']\n",
      "\n",
      "Suggested Role 4 Permissions:\n",
      " ['perm_5', 'perm_6', 'perm_15', 'perm_30']\n",
      "\n",
      "Suggested Role 5 Permissions:\n",
      " ['perm_14']\n",
      "\n",
      "Suggested Role 6 Permissions:\n",
      " ['perm_19']\n",
      "\n",
      "Suggested Role 7 Permissions:\n",
      " ['perm_2', 'perm_14', 'perm_19']\n",
      "\n",
      "Suggested Role 8 Permissions:\n",
      " ['perm_3', 'perm_5', 'perm_6', 'perm_9', 'perm_13', 'perm_15', 'perm_21', 'perm_22', 'perm_30']\n",
      "\n",
      "Suggested Role 9 Permissions:\n",
      " ['perm_7']\n",
      "\n",
      "Suggested Role 10 Permissions:\n",
      " ['perm_2', 'perm_16', 'perm_21', 'perm_24']\n"
     ]
    }
   ],
   "source": [
    "# Suggested roles = clusters of similar permission sets\n",
    "for i in range(k):\n",
    "    cluster_members = df[df[\"suggested_role\"] == i]\n",
    "    cluster_perms = cluster_members.drop(columns=[\"suggested_role\"]).mean().round(2)\n",
    "    print(f\"\\nSuggested Role {i+1} Permissions:\\n\", cluster_perms[cluster_perms > 0.5].index.tolist())"
   ]
  }
 ],
 "metadata": {
  "kernelspec": {
   "display_name": "env",
   "language": "python",
   "name": "python3"
  },
  "language_info": {
   "codemirror_mode": {
    "name": "ipython",
    "version": 3
   },
   "file_extension": ".py",
   "mimetype": "text/x-python",
   "name": "python",
   "nbconvert_exporter": "python",
   "pygments_lexer": "ipython3",
   "version": "3.13.2"
  }
 },
 "nbformat": 4,
 "nbformat_minor": 5
}
